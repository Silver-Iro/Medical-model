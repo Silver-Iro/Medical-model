{
 "cells": [
  {
   "cell_type": "code",
   "execution_count": 5,
   "id": "9e6f86a0-95e7-44f1-8dff-8fdfdfcd1928",
   "metadata": {},
   "outputs": [],
   "source": [
    "import tensorflow as tf\n",
    "from tensorflow import keras\n",
    "from tensorflow.keras.models import Sequential\n",
    "from tensorflow.keras.layers import Activation, Dense \n",
    "from tensorflow.keras.optimizers import Adam\n",
    "from tensorflow.keras.metrics import categorical_crossentropy"
   ]
  },
  {
   "cell_type": "code",
   "execution_count": 6,
   "id": "2ca08d67-74fa-40b4-9e2f-dd2107ed3d9a",
   "metadata": {},
   "outputs": [
    {
     "name": "stdout",
     "output_type": "stream",
     "text": [
      "Num GPUs Available:  1\n"
     ]
    }
   ],
   "source": [
    "physical_devices = tf.config.experimental.list_physical_devices('GPU')\n",
    "print(\"Num GPUs Available: \", len(physical_devices))\n",
    "tf.config.experimental.set_memory_growth(physical_devices[0],True)"
   ]
  },
  {
   "cell_type": "code",
   "execution_count": 14,
   "id": "353be704-a91f-4f48-8d02-c482204abfe9",
   "metadata": {},
   "outputs": [],
   "source": [
    "# run Dataset_initializer.ipynb\n",
    "%run Dataset_initializer.ipynb"
   ]
  },
  {
   "cell_type": "code",
   "execution_count": 8,
   "id": "4ec3be8d-0b75-4e57-8919-d1b0613fd453",
   "metadata": {},
   "outputs": [
    {
     "name": "stderr",
     "output_type": "stream",
     "text": [
      "/home/w/anaconda3/lib/python3.12/site-packages/keras/src/layers/core/dense.py:87: UserWarning: Do not pass an `input_shape`/`input_dim` argument to a layer. When using Sequential models, prefer using an `Input(shape)` object as the first layer in the model instead.\n",
      "  super().__init__(activity_regularizer=activity_regularizer, **kwargs)\n",
      "I0000 00:00:1741815523.820654    4634 gpu_device.cc:2019] Created device /job:localhost/replica:0/task:0/device:GPU:0 with 13553 MB memory:  -> device: 0, name: NVIDIA GeForce RTX 4070 Ti SUPER, pci bus id: 0000:01:00.0, compute capability: 8.9\n"
     ]
    }
   ],
   "source": [
    "# create model\n",
    "model= Sequential([\n",
    "    Dense(units=16, input_shape=(1,), activation='relu'),\n",
    "    Dense(units=32, activation='relu'),\n",
    "    Dense(units=2, activation='softmax')\n",
    "])"
   ]
  },
  {
   "cell_type": "code",
   "execution_count": 9,
   "id": "9cf2d1fe-c89d-4d32-b4d6-12bde340203e",
   "metadata": {},
   "outputs": [
    {
     "data": {
      "text/html": [
       "<pre style=\"white-space:pre;overflow-x:auto;line-height:normal;font-family:Menlo,'DejaVu Sans Mono',consolas,'Courier New',monospace\"><span style=\"font-weight: bold\">Model: \"sequential\"</span>\n",
       "</pre>\n"
      ],
      "text/plain": [
       "\u001b[1mModel: \"sequential\"\u001b[0m\n"
      ]
     },
     "metadata": {},
     "output_type": "display_data"
    },
    {
     "data": {
      "text/html": [
       "<pre style=\"white-space:pre;overflow-x:auto;line-height:normal;font-family:Menlo,'DejaVu Sans Mono',consolas,'Courier New',monospace\">┏━━━━━━━━━━━━━━━━━━━━━━━━━━━━━━━━━┳━━━━━━━━━━━━━━━━━━━━━━━━┳━━━━━━━━━━━━━━━┓\n",
       "┃<span style=\"font-weight: bold\"> Layer (type)                    </span>┃<span style=\"font-weight: bold\"> Output Shape           </span>┃<span style=\"font-weight: bold\">       Param # </span>┃\n",
       "┡━━━━━━━━━━━━━━━━━━━━━━━━━━━━━━━━━╇━━━━━━━━━━━━━━━━━━━━━━━━╇━━━━━━━━━━━━━━━┩\n",
       "│ dense (<span style=\"color: #0087ff; text-decoration-color: #0087ff\">Dense</span>)                   │ (<span style=\"color: #00d7ff; text-decoration-color: #00d7ff\">None</span>, <span style=\"color: #00af00; text-decoration-color: #00af00\">16</span>)             │            <span style=\"color: #00af00; text-decoration-color: #00af00\">32</span> │\n",
       "├─────────────────────────────────┼────────────────────────┼───────────────┤\n",
       "│ dense_1 (<span style=\"color: #0087ff; text-decoration-color: #0087ff\">Dense</span>)                 │ (<span style=\"color: #00d7ff; text-decoration-color: #00d7ff\">None</span>, <span style=\"color: #00af00; text-decoration-color: #00af00\">32</span>)             │           <span style=\"color: #00af00; text-decoration-color: #00af00\">544</span> │\n",
       "├─────────────────────────────────┼────────────────────────┼───────────────┤\n",
       "│ dense_2 (<span style=\"color: #0087ff; text-decoration-color: #0087ff\">Dense</span>)                 │ (<span style=\"color: #00d7ff; text-decoration-color: #00d7ff\">None</span>, <span style=\"color: #00af00; text-decoration-color: #00af00\">2</span>)              │            <span style=\"color: #00af00; text-decoration-color: #00af00\">66</span> │\n",
       "└─────────────────────────────────┴────────────────────────┴───────────────┘\n",
       "</pre>\n"
      ],
      "text/plain": [
       "┏━━━━━━━━━━━━━━━━━━━━━━━━━━━━━━━━━┳━━━━━━━━━━━━━━━━━━━━━━━━┳━━━━━━━━━━━━━━━┓\n",
       "┃\u001b[1m \u001b[0m\u001b[1mLayer (type)                   \u001b[0m\u001b[1m \u001b[0m┃\u001b[1m \u001b[0m\u001b[1mOutput Shape          \u001b[0m\u001b[1m \u001b[0m┃\u001b[1m \u001b[0m\u001b[1m      Param #\u001b[0m\u001b[1m \u001b[0m┃\n",
       "┡━━━━━━━━━━━━━━━━━━━━━━━━━━━━━━━━━╇━━━━━━━━━━━━━━━━━━━━━━━━╇━━━━━━━━━━━━━━━┩\n",
       "│ dense (\u001b[38;5;33mDense\u001b[0m)                   │ (\u001b[38;5;45mNone\u001b[0m, \u001b[38;5;34m16\u001b[0m)             │            \u001b[38;5;34m32\u001b[0m │\n",
       "├─────────────────────────────────┼────────────────────────┼───────────────┤\n",
       "│ dense_1 (\u001b[38;5;33mDense\u001b[0m)                 │ (\u001b[38;5;45mNone\u001b[0m, \u001b[38;5;34m32\u001b[0m)             │           \u001b[38;5;34m544\u001b[0m │\n",
       "├─────────────────────────────────┼────────────────────────┼───────────────┤\n",
       "│ dense_2 (\u001b[38;5;33mDense\u001b[0m)                 │ (\u001b[38;5;45mNone\u001b[0m, \u001b[38;5;34m2\u001b[0m)              │            \u001b[38;5;34m66\u001b[0m │\n",
       "└─────────────────────────────────┴────────────────────────┴───────────────┘\n"
      ]
     },
     "metadata": {},
     "output_type": "display_data"
    },
    {
     "data": {
      "text/html": [
       "<pre style=\"white-space:pre;overflow-x:auto;line-height:normal;font-family:Menlo,'DejaVu Sans Mono',consolas,'Courier New',monospace\"><span style=\"font-weight: bold\"> Total params: </span><span style=\"color: #00af00; text-decoration-color: #00af00\">642</span> (2.51 KB)\n",
       "</pre>\n"
      ],
      "text/plain": [
       "\u001b[1m Total params: \u001b[0m\u001b[38;5;34m642\u001b[0m (2.51 KB)\n"
      ]
     },
     "metadata": {},
     "output_type": "display_data"
    },
    {
     "data": {
      "text/html": [
       "<pre style=\"white-space:pre;overflow-x:auto;line-height:normal;font-family:Menlo,'DejaVu Sans Mono',consolas,'Courier New',monospace\"><span style=\"font-weight: bold\"> Trainable params: </span><span style=\"color: #00af00; text-decoration-color: #00af00\">642</span> (2.51 KB)\n",
       "</pre>\n"
      ],
      "text/plain": [
       "\u001b[1m Trainable params: \u001b[0m\u001b[38;5;34m642\u001b[0m (2.51 KB)\n"
      ]
     },
     "metadata": {},
     "output_type": "display_data"
    },
    {
     "data": {
      "text/html": [
       "<pre style=\"white-space:pre;overflow-x:auto;line-height:normal;font-family:Menlo,'DejaVu Sans Mono',consolas,'Courier New',monospace\"><span style=\"font-weight: bold\"> Non-trainable params: </span><span style=\"color: #00af00; text-decoration-color: #00af00\">0</span> (0.00 B)\n",
       "</pre>\n"
      ],
      "text/plain": [
       "\u001b[1m Non-trainable params: \u001b[0m\u001b[38;5;34m0\u001b[0m (0.00 B)\n"
      ]
     },
     "metadata": {},
     "output_type": "display_data"
    }
   ],
   "source": [
    "model.summary()"
   ]
  },
  {
   "cell_type": "code",
   "execution_count": 10,
   "id": "0fc5498c-8b02-4d90-a01f-da9609b23d94",
   "metadata": {},
   "outputs": [],
   "source": [
    "model.compile(optimizer=Adam(learning_rate=0.0001), loss='sparse_categorical_crossentropy', metrics=['accuracy'])"
   ]
  },
  {
   "cell_type": "code",
   "execution_count": 16,
   "id": "2d359f6f-897e-4cfb-86c0-444ca25e4eda",
   "metadata": {},
   "outputs": [
    {
     "name": "stdout",
     "output_type": "stream",
     "text": [
      "Epoch 1/30\n"
     ]
    },
    {
     "name": "stderr",
     "output_type": "stream",
     "text": [
      "WARNING: All log messages before absl::InitializeLog() is called are written to STDERR\n",
      "I0000 00:00:1741815930.692637    4754 service.cc:152] XLA service 0x7f84c0005fe0 initialized for platform CUDA (this does not guarantee that XLA will be used). Devices:\n",
      "I0000 00:00:1741815930.692669    4754 service.cc:160]   StreamExecutor device (0): NVIDIA GeForce RTX 4070 Ti SUPER, Compute Capability 8.9\n",
      "2025-03-13 01:45:30.715794: I tensorflow/compiler/mlir/tensorflow/utils/dump_mlir_util.cc:269] disabling MLIR crash reproducer, set env var `MLIR_CRASH_REPRODUCER_DIRECTORY` to enable.\n",
      "I0000 00:00:1741815930.795274    4754 cuda_dnn.cc:529] Loaded cuDNN version 90300\n",
      "I0000 00:00:1741815931.400995    4754 device_compiler.h:188] Compiled cluster using XLA!  This line is logged at most once for the lifetime of the process.\n"
     ]
    },
    {
     "name": "stdout",
     "output_type": "stream",
     "text": [
      "210/210 - 1s - 7ms/step - accuracy: 0.4314 - loss: 0.7206\n",
      "Epoch 2/30\n",
      "210/210 - 0s - 2ms/step - accuracy: 0.4695 - loss: 0.6858\n",
      "Epoch 3/30\n",
      "210/210 - 0s - 2ms/step - accuracy: 0.6471 - loss: 0.6533\n",
      "Epoch 4/30\n",
      "210/210 - 0s - 1ms/step - accuracy: 0.7300 - loss: 0.6194\n",
      "Epoch 5/30\n",
      "210/210 - 0s - 1ms/step - accuracy: 0.7729 - loss: 0.5868\n",
      "Epoch 6/30\n",
      "210/210 - 0s - 1ms/step - accuracy: 0.7943 - loss: 0.5537\n",
      "Epoch 7/30\n",
      "210/210 - 0s - 1ms/step - accuracy: 0.8238 - loss: 0.5201\n",
      "Epoch 8/30\n",
      "210/210 - 0s - 1ms/step - accuracy: 0.8429 - loss: 0.4879\n",
      "Epoch 9/30\n",
      "210/210 - 0s - 1ms/step - accuracy: 0.8519 - loss: 0.4579\n",
      "Epoch 10/30\n",
      "210/210 - 0s - 1ms/step - accuracy: 0.8662 - loss: 0.4304\n",
      "Epoch 11/30\n",
      "210/210 - 0s - 1ms/step - accuracy: 0.8900 - loss: 0.4058\n",
      "Epoch 12/30\n",
      "210/210 - 0s - 1ms/step - accuracy: 0.8962 - loss: 0.3843\n",
      "Epoch 13/30\n",
      "210/210 - 0s - 2ms/step - accuracy: 0.9019 - loss: 0.3656\n",
      "Epoch 14/30\n",
      "210/210 - 0s - 1ms/step - accuracy: 0.9114 - loss: 0.3498\n",
      "Epoch 15/30\n",
      "210/210 - 0s - 1ms/step - accuracy: 0.9148 - loss: 0.3363\n",
      "Epoch 16/30\n",
      "210/210 - 0s - 1ms/step - accuracy: 0.9148 - loss: 0.3249\n",
      "Epoch 17/30\n",
      "210/210 - 0s - 1ms/step - accuracy: 0.9248 - loss: 0.3156\n",
      "Epoch 18/30\n",
      "210/210 - 0s - 1ms/step - accuracy: 0.9252 - loss: 0.3075\n",
      "Epoch 19/30\n",
      "210/210 - 0s - 1ms/step - accuracy: 0.9229 - loss: 0.3008\n",
      "Epoch 20/30\n",
      "210/210 - 0s - 1ms/step - accuracy: 0.9295 - loss: 0.2951\n",
      "Epoch 21/30\n",
      "210/210 - 0s - 2ms/step - accuracy: 0.9276 - loss: 0.2904\n",
      "Epoch 22/30\n",
      "210/210 - 0s - 1ms/step - accuracy: 0.9290 - loss: 0.2864\n",
      "Epoch 23/30\n",
      "210/210 - 0s - 1ms/step - accuracy: 0.9319 - loss: 0.2832\n",
      "Epoch 24/30\n",
      "210/210 - 0s - 1ms/step - accuracy: 0.9319 - loss: 0.2802\n",
      "Epoch 25/30\n",
      "210/210 - 0s - 1ms/step - accuracy: 0.9319 - loss: 0.2779\n",
      "Epoch 26/30\n",
      "210/210 - 0s - 1ms/step - accuracy: 0.9333 - loss: 0.2758\n",
      "Epoch 27/30\n",
      "210/210 - 0s - 2ms/step - accuracy: 0.9319 - loss: 0.2741\n",
      "Epoch 28/30\n",
      "210/210 - 0s - 1ms/step - accuracy: 0.9319 - loss: 0.2725\n",
      "Epoch 29/30\n",
      "210/210 - -0s - -1193us/step - accuracy: 0.9376 - loss: 0.2710\n",
      "Epoch 30/30\n",
      "210/210 - 0s - 1ms/step - accuracy: 0.9324 - loss: 0.2698\n"
     ]
    },
    {
     "data": {
      "text/plain": [
       "<keras.src.callbacks.history.History at 0x7f8578341f10>"
      ]
     },
     "execution_count": 16,
     "metadata": {},
     "output_type": "execute_result"
    }
   ],
   "source": [
    "model.fit(x=scaled_train_samples, y=train_labels, batch_size=10, epochs=30, shuffle=True, verbose=2)"
   ]
  },
  {
   "cell_type": "code",
   "execution_count": null,
   "id": "78096f1a-1675-4671-b5bd-c1b1882fc75d",
   "metadata": {},
   "outputs": [],
   "source": []
  }
 ],
 "metadata": {
  "kernelspec": {
   "display_name": "Python 3 (ipykernel)",
   "language": "python",
   "name": "python3"
  },
  "language_info": {
   "codemirror_mode": {
    "name": "ipython",
    "version": 3
   },
   "file_extension": ".py",
   "mimetype": "text/x-python",
   "name": "python",
   "nbconvert_exporter": "python",
   "pygments_lexer": "ipython3",
   "version": "3.12.7"
  },
  "panel-cell-order": [
   "fdcc089b-beff-489e-b3dd-c6ddd26b9a10",
   "90863795-c986-4f96-8e34-d70f685f0dff"
  ]
 },
 "nbformat": 4,
 "nbformat_minor": 5
}
