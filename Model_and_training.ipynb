{
 "cells": [
  {
   "cell_type": "code",
   "execution_count": null,
   "id": "9e6f86a0-95e7-44f1-8dff-8fdfdfcd1928",
   "metadata": {},
   "outputs": [],
   "source": [
    "import tensorflow as tf\n",
    "from tensorflow import keras\n",
    "from tensorflow.keras.models import Sequential\n",
    "from tensorflow.keras.layers import Activation, Dense \n",
    "from tensorflow.keras.optimizers import Adam\n",
    "from tensorflow.keras.metrics import categorical_crossentropy"
   ]
  },
  {
   "cell_type": "code",
   "execution_count": null,
   "id": "2ca08d67-74fa-40b4-9e2f-dd2107ed3d9a",
   "metadata": {},
   "outputs": [],
   "source": [
    "physical_devices = tf.config.experimental.list_physical_devices('GPU')\n",
    "print(\"Num GPUs Available: \", len(physical_devices))\n",
    "tf.config.experimental.set_memory_growth(physical_devices[0],True)"
   ]
  },
  {
   "cell_type": "code",
   "execution_count": null,
   "id": "353be704-a91f-4f48-8d02-c482204abfe9",
   "metadata": {},
   "outputs": [],
   "source": [
    "# run Dataset_initializer.ipynb\n",
    "%run Dataset_initializer.ipynb"
   ]
  },
  {
   "cell_type": "code",
   "execution_count": null,
   "id": "4ec3be8d-0b75-4e57-8919-d1b0613fd453",
   "metadata": {},
   "outputs": [],
   "source": [
    "# create model\n",
    "model= Sequential([\n",
    "    Dense(units=16, input_shape=(1,), activation='relu'),\n",
    "    Dense(units=32, activation='relu'),\n",
    "    Dense(units=2, activation='softmax')\n",
    "])"
   ]
  },
  {
   "cell_type": "code",
   "execution_count": null,
   "id": "9cf2d1fe-c89d-4d32-b4d6-12bde340203e",
   "metadata": {},
   "outputs": [],
   "source": [
    "model.summary()"
   ]
  },
  {
   "cell_type": "code",
   "execution_count": null,
   "id": "0fc5498c-8b02-4d90-a01f-da9609b23d94",
   "metadata": {},
   "outputs": [],
   "source": [
    "model.compile(optimizer=Adam(learning_rate=0.0001), loss='sparse_categorical_crossentropy', metrics=['accuracy'])"
   ]
  },
  {
   "cell_type": "code",
   "execution_count": null,
   "id": "2d359f6f-897e-4cfb-86c0-444ca25e4eda",
   "metadata": {},
   "outputs": [],
   "source": [
    "model.fit(x=scaled_train_samples, y=train_labels, validation_split=0.1, batch_size=10, epochs=30, shuffle=True, verbose=2)"
   ]
  },
  {
   "cell_type": "code",
   "execution_count": null,
   "id": "78096f1a-1675-4671-b5bd-c1b1882fc75d",
   "metadata": {},
   "outputs": [],
   "source": []
  }
 ],
 "metadata": {
  "kernelspec": {
   "display_name": "Python 3 (ipykernel)",
   "language": "python",
   "name": "python3"
  },
  "language_info": {
   "codemirror_mode": {
    "name": "ipython",
    "version": 3
   },
   "file_extension": ".py",
   "mimetype": "text/x-python",
   "name": "python",
   "nbconvert_exporter": "python",
   "pygments_lexer": "ipython3",
   "version": "3.12.7"
  },
  "panel-cell-order": [
   "fdcc089b-beff-489e-b3dd-c6ddd26b9a10",
   "90863795-c986-4f96-8e34-d70f685f0dff"
  ]
 },
 "nbformat": 4,
 "nbformat_minor": 5
}
