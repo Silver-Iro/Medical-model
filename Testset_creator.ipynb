{
 "cells": [
  {
   "cell_type": "markdown",
   "id": "01ce7e7f-a5dd-4d07-80f2-4b813416014f",
   "metadata": {},
   "source": [
    "Test set creation"
   ]
  },
  {
   "cell_type": "code",
   "execution_count": null,
   "id": "9e6f86a0-95e7-44f1-8dff-8fdfdfcd1928",
   "metadata": {},
   "outputs": [],
   "source": [
    "import tensorflow as tf\n",
    "from tensorflow import keras\n",
    "from tensorflow.keras.models import Sequential\n",
    "from tensorflow.keras.layers import Activation, Dense \n",
    "import numpy as np\n",
    "from random import randint\n",
    "from sklearn.utils import shuffle\n",
    "from sklearn.preprocessing import MinMaxScaler"
   ]
  },
  {
   "cell_type": "code",
   "execution_count": null,
   "id": "453fe7a8-5108-4877-aa8c-9c9347e44996",
   "metadata": {},
   "outputs": [],
   "source": [
    "test_labels = []\n",
    "test_samples = []"
   ]
  },
  {
   "cell_type": "code",
   "execution_count": null,
   "id": "beacc77c-8834-49db-8fd7-7d1210059b64",
   "metadata": {},
   "outputs": [],
   "source": [
    "# total_test_samples = 420"
   ]
  },
  {
   "cell_type": "code",
   "execution_count": null,
   "id": "c47301b1-f651-42df-be3e-bab1e1b0568c",
   "metadata": {},
   "outputs": [],
   "source": [
    "# odd samples\n",
    "for i in range(10):\n",
    "    # 5% younger with side effects\n",
    "    random_younger = randint(13,64)\n",
    "    test_samples.append(random_younger)\n",
    "    test_labels.append(1)\n",
    "\n",
    "    # 5% older with no side effects\n",
    "    random_older = randint(65,100)\n",
    "    test_samples.append(random_older)\n",
    "    test_labels.append(0)\n",
    "\n",
    "# normal samples\n",
    "for i in range(200):\n",
    "    # 95 of younger with no sode effects\n",
    "    random_younger = randint(13,64)\n",
    "    test_samples.append(random_younger)\n",
    "    test_labels.append(0)\n",
    "\n",
    "    # 95 of older with sode effects\n",
    "    random_younger = randint(65,100)\n",
    "    test_samples.append(random_younger)\n",
    "    test_labels.append(1)\n",
    "    "
   ]
  },
  {
   "cell_type": "code",
   "execution_count": null,
   "id": "f92d8e52-7659-42f9-979b-190473c1d6d8",
   "metadata": {},
   "outputs": [],
   "source": [
    "# put data set in numpy array and shuffle\n",
    "test_labels = np.array(test_labels)\n",
    "test_samples = np.array(test_samples)\n",
    "test_labels, test_samples = shuffle(test_labels, test_samples)"
   ]
  },
  {
   "cell_type": "code",
   "execution_count": null,
   "id": "2ff00dac-fd98-4581-9cb5-e3ef39a74c88",
   "metadata": {},
   "outputs": [],
   "source": [
    "# normalize the test set for better performance\n",
    "scaler = MinMaxScaler(feature_range=(0,1))\n",
    "scaled_test_samples = scaler.fit_transform(test_samples.reshape(-1,1))"
   ]
  },
  {
   "cell_type": "code",
   "execution_count": null,
   "id": "a4b55c45-5584-4878-895b-97d493bddacb",
   "metadata": {},
   "outputs": [],
   "source": [
    "# for i in scaled_test_samples:\n",
    "#     print(i)"
   ]
  },
  {
   "cell_type": "code",
   "execution_count": null,
   "id": "2ca08d67-74fa-40b4-9e2f-dd2107ed3d9a",
   "metadata": {},
   "outputs": [],
   "source": []
  }
 ],
 "metadata": {
  "kernelspec": {
   "display_name": "Python 3 (ipykernel)",
   "language": "python",
   "name": "python3"
  },
  "language_info": {
   "codemirror_mode": {
    "name": "ipython",
    "version": 3
   },
   "file_extension": ".py",
   "mimetype": "text/x-python",
   "name": "python",
   "nbconvert_exporter": "python",
   "pygments_lexer": "ipython3",
   "version": "3.12.7"
  },
  "panel-cell-order": [
   "fdcc089b-beff-489e-b3dd-c6ddd26b9a10",
   "90863795-c986-4f96-8e34-d70f685f0dff"
  ]
 },
 "nbformat": 4,
 "nbformat_minor": 5
}
