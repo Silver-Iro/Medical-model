{
 "cells": [
  {
   "cell_type": "code",
   "execution_count": 2,
   "id": "9e6f86a0-95e7-44f1-8dff-8fdfdfcd1928",
   "metadata": {},
   "outputs": [],
   "source": [
    "import tensorflow as tf\n",
    "from tensorflow import keras\n",
    "from tensorflow.keras.models import Sequential\n",
    "from tensorflow.keras.layers import Activation, Dense \n",
    "from tensorflow.keras.optimizers import Adam\n",
    "from tensorflow.keras.metrics import categorical_crossentropy"
   ]
  },
  {
   "cell_type": "code",
   "execution_count": null,
   "id": "2ca08d67-74fa-40b4-9e2f-dd2107ed3d9a",
   "metadata": {},
   "outputs": [],
   "source": []
  }
 ],
 "metadata": {
  "kernelspec": {
   "display_name": "Python 3 (ipykernel)",
   "language": "python",
   "name": "python3"
  },
  "language_info": {
   "codemirror_mode": {
    "name": "ipython",
    "version": 3
   },
   "file_extension": ".py",
   "mimetype": "text/x-python",
   "name": "python",
   "nbconvert_exporter": "python",
   "pygments_lexer": "ipython3",
   "version": "3.12.7"
  },
  "panel-cell-order": [
   "fdcc089b-beff-489e-b3dd-c6ddd26b9a10",
   "90863795-c986-4f96-8e34-d70f685f0dff"
  ]
 },
 "nbformat": 4,
 "nbformat_minor": 5
}
