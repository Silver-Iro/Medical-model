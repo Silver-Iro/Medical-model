{
 "cells": [
  {
   "cell_type": "markdown",
   "id": "62b81878-6b4f-40b9-a3aa-057a05208863",
   "metadata": {},
   "source": [
    "> Predict"
   ]
  },
  {
   "cell_type": "code",
   "execution_count": null,
   "id": "34769d4e-b1e2-453c-882c-ba2219b58a34",
   "metadata": {},
   "outputs": [],
   "source": [
    "%matplotlib inline\n",
    "from sklearn.metrics import confusion_matrix\n",
    "from sklearn.metrics import ConfusionMatrixDisplay\n",
    "import itertools\n",
    "import matplotlib.pyplot as plt"
   ]
  },
  {
   "cell_type": "code",
   "execution_count": null,
   "id": "17d1cb54-c2df-41a5-a1e0-dfc672bd51bd",
   "metadata": {},
   "outputs": [],
   "source": [
    "%run Model_and_training.ipynb"
   ]
  },
  {
   "cell_type": "code",
   "execution_count": null,
   "id": "08bb664e-6aae-431a-a397-44339891d759",
   "metadata": {},
   "outputs": [],
   "source": [
    "%run Testset_creator.ipynb"
   ]
  },
  {
   "cell_type": "code",
   "execution_count": null,
   "id": "f88c40c9-c599-4202-bed8-3a66c07a6226",
   "metadata": {},
   "outputs": [],
   "source": [
    "predictions = model.predict(x=scaled_test_samples, batch_size=10, verbose=0)"
   ]
  },
  {
   "cell_type": "code",
   "execution_count": null,
   "id": "0ba5a860-1a63-4bd2-93de-24a43bbf0f54",
   "metadata": {},
   "outputs": [],
   "source": [
    "# for i in predictions:\n",
    "#     print(i)"
   ]
  },
  {
   "cell_type": "code",
   "execution_count": null,
   "id": "a8552654-f106-4dce-a4e2-75a5eb94d8b1",
   "metadata": {},
   "outputs": [],
   "source": [
    "rounded_predictions = np.argmax(predictions, axis=-1)"
   ]
  },
  {
   "cell_type": "code",
   "execution_count": null,
   "id": "72c5eb75-5d34-4ccd-ab41-99436d980240",
   "metadata": {},
   "outputs": [],
   "source": [
    "# for i in rounded_predictions:\n",
    "#     print(i)"
   ]
  },
  {
   "cell_type": "raw",
   "id": "42a729a7-d891-415e-8096-8c61dbf27992",
   "metadata": {},
   "source": [
    "> CONFUSION MATRIX"
   ]
  },
  {
   "cell_type": "code",
   "execution_count": null,
   "id": "00b409cd-f234-4a56-bbf1-13096ce9817c",
   "metadata": {},
   "outputs": [],
   "source": [
    "cm = confusion_matrix(y_true=test_labels,y_pred=rounded_predictions)"
   ]
  },
  {
   "cell_type": "code",
   "execution_count": null,
   "id": "457bc09b-cd08-40b6-af48-d4fca7eec2c9",
   "metadata": {},
   "outputs": [],
   "source": [
    "def plot_confusion_matrix(cm, classes, \n",
    "                          normalize=False, \n",
    "                          title='confusion matrix',\n",
    "                          cmap=plt.cm.Blues):\n",
    "    plt.imshow(cm, interpolation='nearest', cmap=cmap)\n",
    "    plt.title(title)\n",
    "    plt.colorbar()\n",
    "    tick_marks = np.arange(len(classes))\n",
    "    plt.xticks(tick_marks, classes, rotation=45)\n",
    "    plt.yticks(tick_marks, classes)\n",
    "\n",
    "    print('confusion matrix, without normalization')\n",
    "\n",
    "    print(cm)\n",
    "\n",
    "    thresh = cm.max()/2\n",
    "    for i, j in itertools.product(range(cm.shape[0]), range(cm.shape[1])):\n",
    "        plt.text(j, i, cm[i, j],\n",
    "                horizontalalignment='center',\n",
    "                color='white' if cm[i, j] > thresh else 'black')\n",
    "\n",
    "    plt.tight_layout()\n",
    "    plt.ylabel('True label')\n",
    "    plt.xlabel('predicted label')"
   ]
  },
  {
   "cell_type": "code",
   "execution_count": null,
   "id": "dbfcfcfb-a845-436b-94ee-a777a34608b9",
   "metadata": {},
   "outputs": [],
   "source": [
    "cm_plot_labels = ['no_side_effects','had_side_effects']\n",
    "plot_confusion_matrix(cm=cm, classes=cm_plot_labels, title='confusion matrix')\n",
    "plt.show()"
   ]
  },
  {
   "cell_type": "code",
   "execution_count": null,
   "id": "89e8c565-a819-409a-abd1-cba04803531d",
   "metadata": {},
   "outputs": [],
   "source": []
  }
 ],
 "metadata": {
  "kernelspec": {
   "display_name": "Python 3 (ipykernel)",
   "language": "python",
   "name": "python3"
  },
  "language_info": {
   "codemirror_mode": {
    "name": "ipython",
    "version": 3
   },
   "file_extension": ".py",
   "mimetype": "text/x-python",
   "name": "python",
   "nbconvert_exporter": "python",
   "pygments_lexer": "ipython3",
   "version": "3.12.7"
  }
 },
 "nbformat": 4,
 "nbformat_minor": 5
}
