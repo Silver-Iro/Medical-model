{
 "cells": [
  {
   "cell_type": "code",
   "execution_count": 9,
   "id": "9e6f86a0-95e7-44f1-8dff-8fdfdfcd1928",
   "metadata": {},
   "outputs": [],
   "source": [
    "import tensorflow as tf\n",
    "from tensorflow import keras\n",
    "from tensorflow.keras.models import Sequential\n",
    "from tensorflow.keras.layers import Activation, Dense \n",
    "import numpy as np\n",
    "from random import randint\n",
    "from sklearn.utils import shuffle\n",
    "from sklearn.preprocessing import MinMaxScaler"
   ]
  },
  {
   "cell_type": "code",
   "execution_count": 10,
   "id": "453fe7a8-5108-4877-aa8c-9c9347e44996",
   "metadata": {},
   "outputs": [],
   "source": [
    "train_labels = []\n",
    "train_samples = []"
   ]
  },
  {
   "cell_type": "code",
   "execution_count": 11,
   "id": "beacc77c-8834-49db-8fd7-7d1210059b64",
   "metadata": {},
   "outputs": [],
   "source": [
    "total_participants = 2100"
   ]
  },
  {
   "cell_type": "code",
   "execution_count": 12,
   "id": "c47301b1-f651-42df-be3e-bab1e1b0568c",
   "metadata": {},
   "outputs": [],
   "source": [
    "# odd samples (106)\n",
    "for i in range(int(total_participants/2*0.05)+1):\n",
    "    # 5% younger with side effects\n",
    "    random_younger = randint(13,64)\n",
    "    train_samples.append(random_younger)\n",
    "    train_labels.append(1)\n",
    "\n",
    "    # 5% older with no side effects\n",
    "    random_older = randint(65,100)\n",
    "    train_samples.append(random_older)\n",
    "    train_labels.append(0)\n",
    "\n",
    "# most samples (1994)\n",
    "for i in range(int(total_participants/2-(total_participants/2*0.05))):\n",
    "    # 95 of younger with no sode effects\n",
    "    random_younger = randint(13,64)\n",
    "    train_samples.append(random_younger)\n",
    "    train_labels.append(0)\n",
    "\n",
    "    # 95 of older with sode effects\n",
    "    random_younger = randint(65,100)\n",
    "    train_samples.append(random_younger)\n",
    "    train_labels.append(1)\n",
    "    "
   ]
  },
  {
   "cell_type": "code",
   "execution_count": 13,
   "id": "09054172-fbe0-4d14-ab7f-75cae9a06c09",
   "metadata": {},
   "outputs": [],
   "source": [
    "# for i in train_samples:\n",
    "#     print(i)"
   ]
  },
  {
   "cell_type": "code",
   "execution_count": 14,
   "id": "f92d8e52-7659-42f9-979b-190473c1d6d8",
   "metadata": {},
   "outputs": [],
   "source": [
    "# put data set in numpy array and shuffle\n",
    "train_labels = np.array(train_labels)\n",
    "train_samples = np.array(train_samples)\n",
    "train_labels, train_samples = shuffle(train_labels, train_samples)"
   ]
  },
  {
   "cell_type": "code",
   "execution_count": 15,
   "id": "2ff00dac-fd98-4581-9cb5-e3ef39a74c88",
   "metadata": {},
   "outputs": [],
   "source": [
    "# normalize the dataset for better performance\n",
    "scaler = MinMaxScaler(feature_range=(0,1))\n",
    "scaled_train_samples = scaler.fit_transform(train_samples.reshape(-1,1))"
   ]
  },
  {
   "cell_type": "code",
   "execution_count": 16,
   "id": "a4b55c45-5584-4878-895b-97d493bddacb",
   "metadata": {},
   "outputs": [],
   "source": [
    "# for i in scaled_train_samples:\n",
    "#     print(i)"
   ]
  },
  {
   "cell_type": "code",
   "execution_count": null,
   "id": "2ca08d67-74fa-40b4-9e2f-dd2107ed3d9a",
   "metadata": {},
   "outputs": [],
   "source": []
  }
 ],
 "metadata": {
  "kernelspec": {
   "display_name": "Python 3 (ipykernel)",
   "language": "python",
   "name": "python3"
  },
  "language_info": {
   "codemirror_mode": {
    "name": "ipython",
    "version": 3
   },
   "file_extension": ".py",
   "mimetype": "text/x-python",
   "name": "python",
   "nbconvert_exporter": "python",
   "pygments_lexer": "ipython3",
   "version": "3.12.7"
  },
  "panel-cell-order": [
   "fdcc089b-beff-489e-b3dd-c6ddd26b9a10",
   "90863795-c986-4f96-8e34-d70f685f0dff"
  ]
 },
 "nbformat": 4,
 "nbformat_minor": 5
}
